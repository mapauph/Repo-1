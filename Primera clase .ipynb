{
 "cells": [
  {
   "cell_type": "markdown",
   "id": "92432aba",
   "metadata": {},
   "source": [
    "# Soy un titulo \n",
    "## Ahora soy mas pequeño \n",
    "### Empiezo a creer que estoy desapareciendo \n",
    "#### Me les estoy yendo, \n",
    "##### **ayudaaaaaaaaa**\n",
    "\n",
    "\n",
    "**Casilla texto: Letra M control+enter**"
   ]
  },
  {
   "cell_type": "code",
   "execution_count": 1,
   "id": "e4c15aaf",
   "metadata": {},
   "outputs": [
    {
     "data": {
      "text/plain": [
       "4"
      ]
     },
     "execution_count": 1,
     "metadata": {},
     "output_type": "execute_result"
    }
   ],
   "source": [
    "2+2"
   ]
  },
  {
   "cell_type": "markdown",
   "id": "fcd403ad",
   "metadata": {},
   "source": []
  },
  {
   "cell_type": "markdown",
   "id": "e5482b07",
   "metadata": {},
   "source": [
    "<font color=purple>Holi</font>\n",
    "<font color=red>Holi</font>\n",
    "<font color=orange>Holi</font>\n",
    "<font color=yellow>Holi</font>\n",
    "<font color=green>Holi</font>\n",
    "<font color=blue>Holi</font>"
   ]
  },
  {
   "cell_type": "code",
   "execution_count": 4,
   "id": "55d938cd",
   "metadata": {},
   "outputs": [
    {
     "ename": "SyntaxError",
     "evalue": "invalid syntax (87466751.py, line 1)",
     "output_type": "error",
     "traceback": [
      "\u001b[1;36m  Input \u001b[1;32mIn [4]\u001b[1;36m\u001b[0m\n\u001b[1;33m    holi 2\u001b[0m\n\u001b[1;37m         ^\u001b[0m\n\u001b[1;31mSyntaxError\u001b[0m\u001b[1;31m:\u001b[0m invalid syntax\n"
     ]
    }
   ],
   "source": [
    "holi 2\n"
   ]
  },
  {
   "cell_type": "code",
   "execution_count": null,
   "id": "658cb4e6",
   "metadata": {},
   "outputs": [],
   "source": []
  },
  {
   "cell_type": "code",
   "execution_count": null,
   "id": "30df9d79",
   "metadata": {},
   "outputs": [],
   "source": []
  }
 ],
 "metadata": {
  "kernelspec": {
   "display_name": "Python 3 (ipykernel)",
   "language": "python",
   "name": "python3"
  },
  "language_info": {
   "codemirror_mode": {
    "name": "ipython",
    "version": 3
   },
   "file_extension": ".py",
   "mimetype": "text/x-python",
   "name": "python",
   "nbconvert_exporter": "python",
   "pygments_lexer": "ipython3",
   "version": "3.9.12"
  }
 },
 "nbformat": 4,
 "nbformat_minor": 5
}
